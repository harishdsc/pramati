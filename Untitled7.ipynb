{
 "cells": [
  {
   "cell_type": "markdown",
   "metadata": {},
   "source": [
    "# Logit f(x)=1/(1-e power(-x))"
   ]
  },
  {
   "cell_type": "code",
   "execution_count": 1,
   "metadata": {},
   "outputs": [
    {
     "name": "stdout",
     "output_type": "stream",
     "text": [
      "[-12.  -2.  -1.   0.   1.   2.   3.   4.   5.]\n",
      "---Exponential Values of arr---\n",
      "[6.14421235e-06 1.35335283e-01 3.67879441e-01 1.00000000e+00\n",
      " 2.71828183e+00 7.38905610e+00 2.00855369e+01 5.45981500e+01\n",
      " 1.48413159e+02]\n"
     ]
    }
   ],
   "source": [
    "import numpy as np\n",
    " \n",
    "arr = np.array([-5.-4.-3,-2,-1,0,1,2,3,4,5])\n",
    "print(arr)\n",
    "print('---Exponential Values of arr---')\n",
    "print(np.exp(arr))"
   ]
  },
  {
   "cell_type": "code",
   "execution_count": null,
   "metadata": {},
   "outputs": [],
   "source": []
  }
 ],
 "metadata": {
  "kernelspec": {
   "display_name": "Python 3",
   "language": "python",
   "name": "python3"
  },
  "language_info": {
   "codemirror_mode": {
    "name": "ipython",
    "version": 3
   },
   "file_extension": ".py",
   "mimetype": "text/x-python",
   "name": "python",
   "nbconvert_exporter": "python",
   "pygments_lexer": "ipython3",
   "version": "3.7.4"
  }
 },
 "nbformat": 4,
 "nbformat_minor": 2
}
